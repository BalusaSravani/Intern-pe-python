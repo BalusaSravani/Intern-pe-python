{
 "cells": [
  {
   "cell_type": "markdown",
   "id": "af57641a",
   "metadata": {},
   "source": [
    "# Shutdown,Restart and Logout using Python Code"
   ]
  },
  {
   "cell_type": "code",
   "execution_count": null,
   "id": "dfbb1b97",
   "metadata": {},
   "outputs": [],
   "source": [
    "Restart (Windows):"
   ]
  },
  {
   "cell_type": "code",
   "execution_count": null,
   "id": "6a06b2b7",
   "metadata": {},
   "outputs": [],
   "source": [
    "import subprocess\n",
    "\n",
    "def restart_windows():\n",
    "    subprocess.run([\"shutdown\", \"/r\", \"/t\", \"0\"])\n",
    "\n",
    "# Call the function to initiate restart\n",
    "restart_windows()\n"
   ]
  },
  {
   "cell_type": "code",
   "execution_count": null,
   "id": "46b8f39f",
   "metadata": {},
   "outputs": [],
   "source": [
    "Shutdown (Windows):"
   ]
  },
  {
   "cell_type": "code",
   "execution_count": null,
   "id": "213aaa5a",
   "metadata": {},
   "outputs": [],
   "source": [
    "import subprocess\n",
    "\n",
    "def shutdown_windows():\n",
    "    subprocess.run([\"shutdown\", \"/s\", \"/t\", \"0\"])\n",
    "\n",
    "# Call the function to initiate shutdown\n",
    "shutdown_windows()\n"
   ]
  },
  {
   "cell_type": "code",
   "execution_count": null,
   "id": "6661053c",
   "metadata": {},
   "outputs": [],
   "source": [
    "Logout (Windows):"
   ]
  },
  {
   "cell_type": "code",
   "execution_count": null,
   "id": "53ff930c",
   "metadata": {},
   "outputs": [],
   "source": [
    "import subprocess\n",
    "\n",
    "def logout_windows():\n",
    "    subprocess.run([\"shutdown\", \"/l\"])\n",
    "\n",
    "# Call the function to initiate logout\n",
    "logout_windows()\n"
   ]
  }
 ],
 "metadata": {
  "kernelspec": {
   "display_name": "Python 3 (ipykernel)",
   "language": "python",
   "name": "python3"
  },
  "language_info": {
   "codemirror_mode": {
    "name": "ipython",
    "version": 3
   },
   "file_extension": ".py",
   "mimetype": "text/x-python",
   "name": "python",
   "nbconvert_exporter": "python",
   "pygments_lexer": "ipython3",
   "version": "3.9.12"
  }
 },
 "nbformat": 4,
 "nbformat_minor": 5
}
