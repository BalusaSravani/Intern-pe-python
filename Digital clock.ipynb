{
 "cells": [
  {
   "cell_type": "code",
   "execution_count": null,
   "id": "49eaba3e",
   "metadata": {},
   "outputs": [],
   "source": [
    "import tkinter as tk\n",
    "from time import strftime\n",
    "\n",
    "def time_update():\n",
    "    time_string = strftime('%H:%M:%S %p')\n",
    "    label.config(text=time_string)\n",
    "    label.after(1000, time_update)  # Update every 1000 milliseconds (1 second)\n",
    "\n",
    "# Create the main window\n",
    "root = tk.Tk()\n",
    "root.title(\"Digital Clock\")\n",
    "root.geometry(\"300x100\")\n",
    "\n",
    "# Create a label to display the time\n",
    "label = tk.Label(root, font=(\"Arial\", 40), bg=\"black\", fg=\"white\")\n",
    "label.pack(fill=tk.BOTH, expand=True)\n",
    "\n",
    "# Start updating the time\n",
    "time_update()\n",
    "\n",
    "# Run the application\n",
    "root.mainloop()\n"
   ]
  }
 ],
 "metadata": {
  "kernelspec": {
   "display_name": "Python 3 (ipykernel)",
   "language": "python",
   "name": "python3"
  },
  "language_info": {
   "codemirror_mode": {
    "name": "ipython",
    "version": 3
   },
   "file_extension": ".py",
   "mimetype": "text/x-python",
   "name": "python",
   "nbconvert_exporter": "python",
   "pygments_lexer": "ipython3",
   "version": "3.9.12"
  }
 },
 "nbformat": 4,
 "nbformat_minor": 5
}
